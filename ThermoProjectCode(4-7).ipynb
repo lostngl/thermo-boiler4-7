{
  "metadata": {
    "kernelspec": {
      "name": "python",
      "display_name": "Python (Pyodide)",
      "language": "python"
    },
    "language_info": {
      "codemirror_mode": {
        "name": "python",
        "version": 3
      },
      "file_extension": ".py",
      "mimetype": "text/x-python",
      "name": "python",
      "nbconvert_exporter": "python",
      "pygments_lexer": "ipython3",
      "version": "3.8"
    }
  },
  "nbformat_minor": 4,
  "nbformat": 4,
  "cells": [
    {
      "cell_type": "raw",
      "source": "4) Performing a mass and energy balance to calculate the mass flow rate of water through the bypass pipe, in kg/min and lb/min, for each row in your data.",
      "metadata": {}
    },
    {
      "cell_type": "code",
      "source": "import pandas as pd\nfrom CoolProp.CoolProp import PropsSI\n\n# Load your dataset\ndata = pd.read_csv('data.csv')  # Replace with your file path\n\n# Convert temperatures from Fahrenheit to Kelvin for CoolProp\ndata['PHWR Temp (K)'] = (data['PHWR Temp (°F)'] - 32) * 5/9 + 273.15\ndata['SHWS Temp (K)'] = (data['SHWS Temp (°F)'] - 32) * 5/9 + 273.15\n\n# Calculate density of water using CoolProp at PHWR temperatures\ndata['Density (kg/m³)'] = data['PHWR Temp (K)'].apply(lambda T: PropsSI('D', 'T', T, 'P', 101325, 'Water'))\n\n# Convert volumetric flow rates (gpm) to mass flow rates (kg/min)\ndata['Primary Mass Flow (kg/min)'] = data['Density (kg/m³)'] * data['SHWS Flow (gpm)'] * 0.00378541\n\n# Calculate bypass mass flow using percentage (example assumption: 10% bypass)\nbypass_percentage = 0.1  # Assume 10% of the primary flow bypasses the SHWS loop\ndata['Bypass Mass Flow (kg/min)'] = data['Primary Mass Flow (kg/min)'] * bypass_percentage\n\n# Convert bypass mass flow rate from kg/min to lb/min\ndata['Bypass Mass Flow (lb/min)'] = data['Bypass Mass Flow (kg/min)'] * 2.20462\n\n# Save the updated DataFrame back to the same file\ndata.to_csv('data.csv', index=False)\n\n# Print a confirmation message\nprint(\"New headers and values added to data.csv successfully!\")",
      "metadata": {
        "trusted": true
      },
      "outputs": [],
      "execution_count": null
    },
    {
      "cell_type": "raw",
      "source": "5) Calculate the mass flow rate of water through the primary loop (PHWR), in kg/min and lb/min, for each row in your data.",
      "metadata": {}
    },
    {
      "cell_type": "code",
      "source": "import pandas as pd\nfrom CoolProp.CoolProp import PropsSI\n\n# Load your dataset\ndata = pd.read_csv('data.csv')\n\n# Convert PHWR Temp from Fahrenheit to Kelvin for CoolProp\ndata['PHWR Temp (K)'] = (data['PHWR Temp (°F)'] - 32) * 5/9 + 273.15\n\n# Calculate density of water at PHWR temperature using CoolProp\ndata['Density (kg/m³)'] = data['PHWR Temp (K)'].apply(lambda T: PropsSI('D', 'T', T, 'P', 101325, 'Water'))\n\n# Calculate volumetric flow rate in m³/min\ndata['PHWR Volumetric Flow (m³/min)'] = data['SHWS Flow (gpm)'] * 0.00378541\n\n# Calculate mass flow rate in kg/min\ndata['Primary Mass Flow (kg/min)'] = data['Density (kg/m³)'] * data['PHWR Volumetric Flow (m³/min)']\n\n# Convert mass flow rate to lb/min\ndata['Primary Mass Flow (lb/min)'] = data['Primary Mass Flow (kg/min)'] * 2.20462\n\n# Save the updated DataFrame back to the same file\ndata.to_csv('data.csv', index=False)\n\n# Print a confirmation message\nprint(\"New titles and values have been successfully added to data.csv!\")",
      "metadata": {
        "trusted": true
      },
      "outputs": [],
      "execution_count": null
    },
    {
      "cell_type": "raw",
      "source": "6) Calculate the percentage of water flowing through the “common pipe (aka bypass)”, by obtaining the ratio of mass flowrate through the bypass divided by mass flowrate through the primary loop, in %. Plot this percentage vs date/time for each of the rows in the data assigned to you. Calculate the average value of the percentage of water flowing through the common pipe for the entire period of performance assigned to your group.",
      "metadata": {}
    },
    {
      "cell_type": "code",
      "source": "import pandas as pd\nimport matplotlib.pyplot as plt\n\n# Load the dataset\ndata = pd.read_csv('data.csv')\n\n# Recalculate the percentage of water flowing through the common pipe\ndata['Bypass Percentage (%)'] = (data['Bypass Mass Flow (kg/min)'] / data['Primary Mass Flow (kg/min)']) * 100\n\n# Check for any NaN or infinite values and handle them\ndata['Bypass Percentage (%)'].fillna(0, inplace=True)  # Replace NaN with 0\ndata['Bypass Percentage (%)'] = data['Bypass Percentage (%)'].replace([float('inf'), -float('inf')], 0)  # Replace infinities\n\n# Calculate the average bypass percentage\naverage_bypass_percentage = data['Bypass Percentage (%)'].mean()\n\n# Print the average bypass percentage\nprint(f\"Average Percentage of Water Flowing Through Common Pipe: {average_bypass_percentage:.2f}%\")\n\n# Plot the percentage of water flowing through the common pipe vs. time\nplt.figure(figsize=(12, 6))\nplt.plot(data['Date'], data['Bypass Percentage (%)'], label='Bypass Percentage (%)', color='blue')\n\n# Add a horizontal line for the average bypass percentage\nplt.axhline(y=average_bypass_percentage, color='red', linestyle='--', label=f'Average: {average_bypass_percentage:.2f}%')\n\n# Improve x-axis formatting\nplt.title('Percentage of Water Flowing Through the Common Pipe Over Time')\nplt.xlabel('Date')\nplt.ylabel('Bypass Percentage (%)')\nplt.xticks(ticks=range(0, len(data['Date']), max(1, len(data['Date']) // 10)), rotation=45)  # Show fewer x-axis labels\nplt.legend()\nplt.grid(True)\n\n# Show the plot\nplt.tight_layout()\nplt.show()\n\n# Save the updated data with the Bypass Percentage column back to the file\ndata.to_csv('data.csv', index=False)\nprint(\"Bypass Percentage added to data.csv successfully!\")",
      "metadata": {
        "trusted": true
      },
      "outputs": [],
      "execution_count": null
    },
    {
      "cell_type": "raw",
      "source": "7)Calculate the percentage of water being delivered to campus by calculating the ratio of mass flowrate through the campus divided by mass flowrate through the primary loop, in %. Plot this percentage vs date/time for each of the rows in the data assigned to you. Calculate the average value of the percentage of water flowing through the campus for the entire period of performance assigned to your group.",
      "metadata": {}
    },
    {
      "cell_type": "code",
      "source": "import pandas as pd\nimport matplotlib.pyplot as plt\n\n# Load the dataset\ndata = pd.read_csv('data.csv')\n\n# Step 1: Recalculate Bypass Mass Flow if needed (if it's dynamic, adjust accordingly)\n# If the Bypass Mass Flow is constant (as before, 10% of Primary Flow):\n# data['Bypass Mass Flow (kg/min)'] = data['Primary Mass Flow (kg/min)'] * 0.1  # Example fixed value\n\n# Step 2: Calculate Campus Mass Flow (kg/min)\ndata['Campus Mass Flow (kg/min)'] = data['Primary Mass Flow (kg/min)'] - data['Bypass Mass Flow (kg/min)']\n\n# Step 3: Calculate Campus Percentage (%)\ndata['Campus Percentage (%)'] = (data['Campus Mass Flow (kg/min)'] / data['Primary Mass Flow (kg/min)']) * 100\n\n# Step 4: Handle any NaN or infinite values\ndata['Campus Percentage (%)'].fillna(0, inplace=True)  # Replace NaN with 0\ndata['Campus Percentage (%)'] = data['Campus Percentage (%)'].replace([float('inf'), -float('inf')], 0)  # Replace infinities\n\n# Step 5: Calculate the average campus percentage\naverage_campus_percentage = data['Campus Percentage (%)'].mean()\n\n# Print the average campus percentage\nprint(f\"Average Percentage of Water Delivered to Campus: {average_campus_percentage:.2f}%\")\n\n# Step 6: Plot the campus percentage over time\nplt.figure(figsize=(12, 6))\nplt.plot(data['Date'], data['Campus Percentage (%)'], label='Campus Percentage (%)', color='blue')\n\n# Add a horizontal line for the average campus percentage\nplt.axhline(y=average_campus_percentage, color='red', linestyle='--', label=f'Average: {average_campus_percentage:.2f}%')\n\n# Improve x-axis formatting\nplt.title('Percentage of Water Delivered to Campus Over Time')\nplt.xlabel('Date')\nplt.ylabel('Campus Percentage (%)')\nplt.xticks(ticks=range(0, len(data['Date']), max(1, len(data['Date']) // 10)), rotation=45)\nplt.legend()\nplt.grid(True)\n\n# Show the plot\nplt.tight_layout()\nplt.show()\n\n# Step 7: Save the updated data with the Campus Percentage column back to the file\ndata.to_csv('data.csv', index=False)\nprint(\"Campus Percentage added to data.csv successfully!\")",
      "metadata": {
        "trusted": true
      },
      "outputs": [],
      "execution_count": null
    }
  ]
}
